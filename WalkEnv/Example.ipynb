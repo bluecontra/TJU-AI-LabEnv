{
 "cells": [
  {
   "cell_type": "code",
   "execution_count": 1,
   "metadata": {},
   "outputs": [],
   "source": [
    "import matplotlib\n",
    "matplotlib.use('TkAgg')  # avoid non-GUI warning for matplotlib\n",
    "\n",
    "from IPython.display import display, HTML\n",
    "\n",
    "import matplotlib.pyplot as plt\n",
    "import matplotlib.animation as animation\n",
    "import numpy as np\n",
    "\n",
    "%matplotlib inline"
   ]
  },
  {
   "cell_type": "code",
   "execution_count": 2,
   "metadata": {},
   "outputs": [],
   "source": [
    "import WalkEnv as Env"
   ]
  },
  {
   "cell_type": "code",
   "execution_count": 3,
   "metadata": {},
   "outputs": [],
   "source": [
    "env = Env.RandomMove(live_display=True)"
   ]
  },
  {
   "cell_type": "code",
   "execution_count": 4,
   "metadata": {},
   "outputs": [
    {
     "data": {
      "image/png": "[encoded data removed]",
      "text/plain": [
       "<Figure size 432x288 with 1 Axes>"
      ]
     },
     "metadata": {},
     "output_type": "display_data"
    },
    {
     "data": {
      "image/png": "[encoded data removed]",
      "text/plain": [
       "<Figure size 432x288 with 1 Axes>"
      ]
     },
     "metadata": {},
     "output_type": "display_data"
    },
    {
     "name": "stdout",
     "output_type": "stream",
     "text": [
      "2 0 False\n"
     ]
    },
    {
     "data": {
      "image/png": "[encoded data removed]",
      "text/plain": [
       "<Figure size 432x288 with 1 Axes>"
      ]
     },
     "metadata": {},
     "output_type": "display_data"
    },
    {
     "name": "stdout",
     "output_type": "stream",
     "text": [
      "3 0 False\n"
     ]
    },
    {
     "data": {
      "image/png": "[encoded data removed]",
      "text/plain": [
       "<Figure size 432x288 with 1 Axes>"
      ]
     },
     "metadata": {},
     "output_type": "display_data"
    },
    {
     "name": "stdout",
     "output_type": "stream",
     "text": [
      "4 0 False\n"
     ]
    },
    {
     "data": {
      "image/png": "[encoded data removed]",
      "text/plain": [
       "<Figure size 432x288 with 1 Axes>"
      ]
     },
     "metadata": {},
     "output_type": "display_data"
    },
    {
     "name": "stdout",
     "output_type": "stream",
     "text": [
      "5 0 False\n"
     ]
    },
    {
     "data": {
      "image/png": "[encoded data removed]",
      "text/plain": [
       "<Figure size 432x288 with 1 Axes>"
      ]
     },
     "metadata": {},
     "output_type": "display_data"
    },
    {
     "name": "stdout",
     "output_type": "stream",
     "text": [
      "6 1 True\n"
     ]
    }
   ],
   "source": [
    "env.reset()\n",
    "obs = env._obs()\n",
    "plt.imshow(obs, cmap=env.cmap, norm=env.norm)\n",
    "plt.show()\n",
    "for i in range(100):\n",
    "    action = np.random.choice([0, 1])\n",
    "    s, r, d, _ = env.step(action)\n",
    "    obs = env._obs()\n",
    "    plt.imshow(obs, cmap=env.cmap, norm=env.norm)\n",
    "    plt.show()\n",
    "    print(s, r, d)\n",
    "    if d: break"
   ]
  },
  {
   "cell_type": "code",
   "execution_count": 5,
   "metadata": {},
   "outputs": [
    {
     "name": "stderr",
     "output_type": "stream",
     "text": [
      "/Users/codeMan/anaconda3/envs/keras/lib/python3.5/site-packages/matplotlib/figure.py:459: UserWarning: matplotlib is currently using a non-GUI backend, so cannot show the figure\n",
      "  \"matplotlib is currently using a non-GUI backend, \"\n"
     ]
    },
    {
     "data": {
      "text/html": [
       "<video width=\"600\" height=\"400\" controls autoplay loop>\n",
       "  <source type=\"video/mp4\" src=\"data:video/mp4;base64,AAAAHGZ0eXBNNFYgAAACAGlzb21pc28yYXZjMQAAAAhmcmVlAAAJpW1kYXQAAAKuBgX//6rcRem9\n",
       "5tlIt5Ys2CDZI+7veDI2NCAtIGNvcmUgMTQ4IHIyNzQ4IDk3ZWFlZjIgLSBILjI2NC9NUEVHLTQg\n",
       "QVZDIGNvZGVjIC0gQ29weWxlZnQgMjAwMy0yMDE2IC0gaHR0cDovL3d3dy52aWRlb2xhbi5vcmcv\n",
       "eDI2NC5odG1sIC0gb3B0aW9uczogY2FiYWM9MSByZWY9MyBkZWJsb2NrPTE6MDowIGFuYWx5c2U9\n",
       "MHgzOjB4MTEzIG1lPWhleCBzdWJtZT03IHBzeT0xIHBzeV9yZD0xLjAwOjAuMDAgbWl4ZWRfcmVm\n",
       "PTEgbWVfcmFuZ2U9MTYgY2hyb21hX21lPTEgdHJlbGxpcz0xIDh4OGRjdD0xIGNxbT0wIGRlYWR6\n",
       "b25lPTIxLDExIGZhc3RfcHNraXA9MSBjaHJvbWFfcXBfb2Zmc2V0PS0yIHRocmVhZHM9MTIgbG9v\n",
       "a2FoZWFkX3RocmVhZHM9MiBzbGljZWRfdGhyZWFkcz0wIG5yPTAgZGVjaW1hdGU9MSBpbnRlcmxh\n",
       "Y2VkPTAgYmx1cmF5X2NvbXBhdD0wIGNvbnN0cmFpbmVkX2ludHJhPTAgYmZyYW1lcz0zIGJfcHly\n",
       "YW1pZD0yIGJfYWRhcHQ9MSBiX2JpYXM9MCBkaXJlY3Q9MSB3ZWlnaHRiPTEgb3Blbl9nb3A9MCB3\n",
       "ZWlnaHRwPTIga2V5aW50PTI1MCBrZXlpbnRfbWluPTUgc2NlbmVjdXQ9NDAgaW50cmFfcmVmcmVz\n",
       "aD0wIHJjX2xvb2thaGVhZD00MCByYz1jcmYgbWJ0cmVlPTEgY3JmPTIzLjAgcWNvbXA9MC42MCBx\n",
       "cG1pbj0wIHFwbWF4PTY5IHFwc3RlcD00IGlwX3JhdGlvPTEuNDAgYXE9MToxLjAwAIAAAAGzZYiE\n",
       "AD///vdonwKbWkN6gOSVxSXqf+LcYdbJyfaylRegAAADAAADAANG4W8Dya10/kxAAACvgBZAuwiQ\n",
       "kApY3hUDHXPb6Q8/gAMs+a48vuZ9XKDq67q3jo5wApyOXDUbWn9twqYT/zuaQws+zeCoJ5mFK3lA\n",
       "kvNlSQixtwECOWzdHB88PP4pYPU+1WZi4X43Qpi4ydCzapfXjO0pYB0VJmM6EPYh2GJW0aEgYyoD\n",
       "PZE7PHrIwh1JVV9VNRg6tkfz3Ma8qwP3cTcrJD9tQ1rsOv2ong9Srh/oyPxyD/Fpt0HN3QzVO3fS\n",
       "a912rObh2gBN9Mx1gBcU/tAc8ILICWKjzVWHUE98NEoALRDNCVjdOhaJIAAZpFn73aV61sR7MrSa\n",
       "IUxojvmT0okmN4Ok93IDsNJI7Q9dA65Oep5lAABJ9gO+VmdTeNrr7ccSfdZqzWAe2G9ua0mnHYW5\n",
       "uW/Og4LvZZLXFxZ2DswbukaHkeuYCQI/yHM4nAKhVD/gHm/Rt3kwnR40PvrVLwz7ioSYPDZf6Zt9\n",
       "QzVVMVVXGdYZ4AYglqETAQYAAAMAAAMAAAMAAAMAABIxAAAAWEGaIWxD//6plgAACUI6SFvOPULN\n",
       "n3eg2FBb8AHdPWlP21XGee3wB/C984sWvA/JivYbRnVm8qWYL5uO8aFqUvealeLX938EYiTq5RAU\n",
       "S+eRTvNy7wmhW5sAAABeQZpCPCGTKYQQ//6qVQAAAwKly1LmR4oN/ATqY8Odg7tCk50BKI8WVtNk\n",
       "AyfE0Ot29q/fesTewKDA9W1cyW27uBXjI2RX1yC8f7OOCoQr17nk2aL433si2QJU7hGJgQAAAEZB\n",
       "mmNJ4Q8mUwIf//6plgAAClBMERCTGGBmSMCueCtzxGYjwdeiU7wVK3WV2tClTU4YEAzF475cytcC\n",
       "vMBQerACmQp4QK2AAAAAP0GahEnhDyZTAgl//rUqgAABUvDWGz7iLtDkrmPWwHYqSNZBBuCr7kRM\n",
       "XTDVYPVRPizYVBQFC/z/Et7aEO2NgQAAANBBmqZJ4Q8mUwURPBH//rUqgAABUuow8aP/e/t6CCD+\n",
       "Anjm4AF1QJ7kyCFum7IV40cNXRElp6jLE96pMezJWSFmwpUiMIUK+zYsN4sd+EagvaYccC11qCYN\n",
       "zzFXdDWrDP1wJ7n5WTdIg9zzkHq7SCmj2Opak0ZlGWsO/3UOlhckSdO5ZqsyFt23lk8brNXSG+3S\n",
       "jS44pT9DADnEPPq1A4dtioJZ5rNecss14KPXlB7ji+agZzxxjmIU/RRMEUOCTm+BjqH+bc7698hd\n",
       "dqFZgEXBAAAAKQGexWpD/wAAAwOfhCfoNuq5pbmxeJ01IKSWBAbhjTmRXNrtsjKxUGBBAAAAGEGa\n",
       "yEnhDyZTBTw///6plgAAAwAAAwBqwQAAAFMBnudqQ/8AAAMDS3+aHUsyqrlfETbyBfQHw/KRR2lQ\n",
       "UfSvuxigBph4bbyY4DFq/S8dpCIELsWn6w9PlzJjGwMLASAwQ/fGen0Pumw14+vVuqAOWAAAAFlB\n",
       "mulJ4Q8mUwIf//6plgAACUGRJC3rzglVDWnQG5QW/AB3T1pKtqWAXGOA/n+h2FfWXrf9CvJJhk91\n",
       "VbKwwQ4dPTvGkmsYZa+hS3cOpy/I9VLYeWIu/nxx5wAAAEhBmwpJ4Q8mUwIJf/61KoAAAVMfhVJb\n",
       "hk52M/7f8aYMp++RApPMoa2VBA8d7Z4C9rvg79ie+3mMyRD3+xpFgO2c16JH37RxmVEAAABQQZss\n",
       "SeEPJlMFETwR//61KoAAAVLqMPGj/mH+dhm2EpP7VbD5mrqMKYLYNd4OSpEGS4gdsFpQAeK6C3Kx\n",
       "L+UAAeFMYwt4QtxhCvbpYi1mARcAAAAqAZ9LakP/AAADA5+EJ+g26rmluWwfTzXYwLkuyCHGXazm\n",
       "FGyceyyFUGBAAAAAnUGbTknhDyZTBTw///6plgAAFm+FcJ1iyiLyDGK7o5+goS7ABfNU7aom+4x6\n",
       "GJHhiVQZj5do9FWrWFj8EsS26pIW7ZXczuTY45QfHD3lZ0KbU8IQny76/bUT9s4EKBJ2RrOcRsDz\n",
       "I4k/KFOOWhOOssBQ+YAB6MI0Wxa19erGqulDr5muDN2smKzJAR93a8j1Ov3S1/eFouzQ2KC4BL0A\n",
       "AAClAZ9takP/AAADAvuZy7wLQG0Ow1pj0xwt2B/msCPAA7M0+qj9FLzjF0h1wGwl+iRg4g01xVyC\n",
       "XucwXcnlL5DHLVeexwbM373X/9tLHC4RyQchXhvQ3EAXo+KBg8KhgOAx5ImIPeTF4BW6C0huCt5g\n",
       "oK2gbQKUDvPEtIynYlKZgvPZ/x/ikc4W096IIXDuvDo7k3I/8OYUF1m+cUm+pdk/JoGfIAi5AAAD\n",
       "u21vb3YAAABsbXZoZAAAAAAAAAAAAAAAAAAAA+gAAAu4AAEAAAEAAAAAAAAAAAAAAAABAAAAAAAA\n",
       "AAAAAAAAAAAAAQAAAAAAAAAAAAAAAAAAQAAAAAAAAAAAAAAAAAAAAAAAAAAAAAAAAAAAAAAAAAIA\n",
       "AALldHJhawAAAFx0a2hkAAAAAwAAAAAAAAAAAAAAAQAAAAAAAAu4AAAAAAAAAAAAAAAAAAAAAAAB\n",
       "AAAAAAAAAAAAAAAAAAAAAQAAAAAAAAAAAAAAAAAAQAAAAAJYAAABkAAAAAAAJGVkdHMAAAAcZWxz\n",
       "dAAAAAAAAAABAAALuAAAEAAAAQAAAAACXW1kaWEAAAAgbWRoZAAAAAAAAAAAAAAAAAAAKAAAAHgA\n",
       "VcQAAAAAAC1oZGxyAAAAAAAAAAB2aWRlAAAAAAAAAAAAAAAAVmlkZW9IYW5kbGVyAAAAAghtaW5m\n",
       "AAAAFHZtaGQAAAABAAAAAAAAAAAAAAAkZGluZgAAABxkcmVmAAAAAAAAAAEAAAAMdXJsIAAAAAEA\n",
       "AAHIc3RibAAAALRzdHNkAAAAAAAAAAEAAACkYXZjMQAAAAAAAAABAAAAAAAAAAAAAAAAAAAAAAJY\n",
       "AZAASAAAAEgAAAAAAAAAAQAAAAAAAAAAAAAAAAAAAAAAAAAAAAAAAAAAAAAAAAAAABj//wAAADJh\n",
       "dmNDAWQAFv/hABlnZAAWrNlAmDPl4QAAAwABAAADAAoPFi2WAQAGaOvjyyLAAAAAHHV1aWRraEDy\n",
       "XyRPxbo5pRvPAyPzAAAAAAAAABhzdHRzAAAAAAAAAAEAAAAPAAAIAAAAABRzdHNzAAAAAAAAAAEA\n",
       "AAABAAAAYGN0dHMAAAAAAAAACgAAAAUAABAAAAAAAQAAGAAAAAABAAAIAAAAAAEAABgAAAAAAQAA\n",
       "CAAAAAACAAAQAAAAAAEAABgAAAAAAQAACAAAAAABAAAYAAAAAAEAAAgAAAAAHHN0c2MAAAAAAAAA\n",
       "AQAAAAEAAAAPAAAAAQAAAFBzdHN6AAAAAAAAAAAAAAAPAAAEaQAAAFwAAABiAAAASgAAAEMAAADU\n",
       "AAAALQAAABwAAABXAAAAXQAAAEwAAABUAAAALgAAAKEAAACpAAAAFHN0Y28AAAAAAAAAAQAAACwA\n",
       "AABidWR0YQAAAFptZXRhAAAAAAAAACFoZGxyAAAAAAAAAABtZGlyYXBwbAAAAAAAAAAAAAAAAC1p\n",
       "bHN0AAAAJal0b28AAAAdZGF0YQAAAAEAAAAATGF2ZjU3LjU2LjEwMQ==\n",
       "\">\n",
       "  Your browser does not support the video tag.\n",
       "</video>"
      ],
      "text/plain": [
       "<IPython.core.display.HTML object>"
      ]
     },
     "execution_count": 5,
     "metadata": {},
     "output_type": "execute_result"
    },
    {
     "data": {
      "image/png": "[encoded data removed]",
      "text/plain": [
       "<Figure size 600x400 with 1 Axes>"
      ]
     },
     "metadata": {},
     "output_type": "display_data"
    }
   ],
   "source": [
    "env = Env.RandomMove()\n",
    "for i in range(100):\n",
    "    action = np.random.choice([0, 1])\n",
    "    s, r, d, _ = env.step(action)\n",
    "    env.render()\n",
    "    if d: break\n",
    "HTML(env._get_video(interval=200, gif_path='./try_env.gif').to_html5_video())"
   ]
  },
  {
   "cell_type": "code",
   "execution_count": null,
   "metadata": {},
   "outputs": [],
   "source": []
  },
  {
   "cell_type": "code",
   "execution_count": null,
   "metadata": {},
   "outputs": [],
   "source": []
  },
  {
   "cell_type": "code",
   "execution_count": null,
   "metadata": {},
   "outputs": [],
   "source": []
  },
  {
   "cell_type": "code",
   "execution_count": null,
   "metadata": {},
   "outputs": [],
   "source": []
  },
  {
   "cell_type": "code",
   "execution_count": null,
   "metadata": {},
   "outputs": [],
   "source": []
  },
  {
   "cell_type": "code",
   "execution_count": null,
   "metadata": {},
   "outputs": [],
   "source": []
  }
 ],
 "metadata": {
  "kernelspec": {
   "display_name": "Python [conda env:keras]",
   "language": "python",
   "name": "conda-env-keras-py"
  },
  "language_info": {
   "codemirror_mode": {
    "name": "ipython",
    "version": 3
   },
   "file_extension": ".py",
   "mimetype": "text/x-python",
   "name": "python",
   "nbconvert_exporter": "python",
   "pygments_lexer": "ipython3",
   "version": "3.5.2"
  }
 },
 "nbformat": 4,
 "nbformat_minor": 2
}
